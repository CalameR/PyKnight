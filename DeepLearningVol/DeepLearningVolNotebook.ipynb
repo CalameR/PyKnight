{
 "cells": [
  {
   "cell_type": "code",
   "execution_count": 135,
   "metadata": {},
   "outputs": [],
   "source": [
    "import QuantLib as ql\n",
    "import numpy as np\n",
    "import scipy.stats as stats\n",
    "import scipy.optimize as spo\n",
    "from sklearn.model_selection import train_test_split\n",
    "from sklearn.preprocessing import StandardScaler\n",
    "from random import sample\n",
    "import sklearn.neural_network as sknn\n",
    "import matplotlib.pyplot as plt\n",
    "import time\n",
    "from scipy.integrate import *\n",
    "import cmath as cpx\n",
    "import math as m"
   ]
  },
  {
   "cell_type": "code",
   "execution_count": 136,
   "metadata": {},
   "outputs": [
    {
     "name": "stdout",
     "output_type": "stream",
     "text": [
      "Total computation time = 0.41s\n",
      "No Feller Condition 0\n"
     ]
    }
   ],
   "source": [
    "def MakeUniformRandParams(ArrayMin,ArrayMax,nRand):\n",
    "    if (len(ArrayMin)!=len(ArrayMax)):\n",
    "        raise Exception('ArrayMax and ArrayMin must have the same size')\n",
    "    else:\n",
    "        nParams = len(ArrayMin)\n",
    "        rand_seq = ql.UniformRandomSequenceGenerator(nParams*nRand,ql.UniformRandomGenerator())\n",
    "        X = rand_seq.nextSequence().value()\n",
    "        #X = [ArrayMin[j%nParams]+(ArrayMax[j%nParams]-ArrayMin[j%nParams])*X[j] for j in range(nParams*nRand)]\n",
    "        res = np.zeros((nRand,nParams))\n",
    "        LocalMax = 0\n",
    "        res__ = 0\n",
    "        res_ = 0\n",
    "        for i in range(nRand):\n",
    "            for j in range(nParams):\n",
    "                AdjMax = ArrayMax[j]\n",
    "                if j==2:\n",
    "                    AdjMax = XiFellerAdjust(res__,res_,ArrayMax[j])\n",
    "                res[i,j]=ArrayMin[j]+(AdjMax-ArrayMin[j])*X[i*nParams+j]\n",
    "                res__ = res_\n",
    "                res_ = res[i,j]\n",
    "        #res = np.reshape(X,(nRand,nParams))\n",
    "        return res\n",
    "\n",
    "def CountNoFellerCondition(X):\n",
    "    k=0\n",
    "    for j in range(len(X)):\n",
    "        if (X[j,2]>XiFellerMax(X[j,0],X[j,1])):\n",
    "            k=k+1\n",
    "    return k\n",
    "\n",
    "def XiFellerMax(kappa,theta):\n",
    "    return m.sqrt(2*kappa*theta)\n",
    "\n",
    "def XiFellerAdjust(kappa,theta,xi_init):\n",
    "    if (xi_init>XiFellerMax(kappa,theta)):\n",
    "        return XiFellerMax(kappa,theta)\n",
    "    return xi_init\n",
    "    \n",
    "ArrayMin = [0.1, 0.1,  0.01, -0.999, 0.1]\n",
    "ArrayMax = [1.5, 1.5,  0.75,  0.999, 1.5]\n",
    "nRand = 100000\n",
    "start = time.time()\n",
    "res=MakeUniformRandParams(ArrayMin,ArrayMax,nRand)\n",
    "end = time.time()\n",
    "print('Total computation time = ' + str(round(end-start,2)) + 's')\n",
    "print('No Feller Condition ' + str(CountNoFellerCondition(res)))"
   ]
  },
  {
   "cell_type": "code",
   "execution_count": 84,
   "metadata": {},
   "outputs": [],
   "source": [
    "# GLOBAL CONFIG #\n",
    "AsOfDate = ql.Date(15,10,2018)\n",
    "ql.Settings.instance().evaluationDate = AsOfDate\n",
    "DayCount = ql.Actual365Fixed()\n",
    "Calendar = ql.UnitedStates()"
   ]
  },
  {
   "cell_type": "code",
   "execution_count": 151,
   "metadata": {},
   "outputs": [
    {
     "name": "stdout",
     "output_type": "stream",
     "text": [
      "[Date(15,11,2018), Date(15,12,2018), Date(15,1,2019), Date(15,4,2019), Date(15,10,2019), Date(15,4,2020), Date(15,10,2020), Date(15,10,2021)]\n",
      "[70, 80, 90, 100, 110, 120, 130]\n"
     ]
    }
   ],
   "source": [
    "# EUROPEAN OPTION CONFIG #\n",
    "MaturityDates = []\n",
    "strikes = []\n",
    "exercises = []\n",
    "payoffs = []\n",
    "option_type = ql.Option.Call\n",
    "ms = [1,2,3,6,0,6,0,0]\n",
    "ys = [0,0,0,0,1,1,2,3]\n",
    "for k in range(len(ms)):\n",
    "    if (10+ms[k]>12):\n",
    "        ys_sup=1\n",
    "    else:\n",
    "        ys_sup=0\n",
    "    MaturityDates.append(ql.Date(15,(10+ms[k]-1)%12+1,2018+ys[k]+ys_sup))\n",
    "    exercises.append(ql.EuropeanExercise(MaturityDates[k]))\n",
    "for k in range(7):\n",
    "        strikes.append(70+k*10)\n",
    "        #payoffs.append(ql.PlainVanillaPayoff(option_type, strikes[k]))\n",
    "print(MaturityDates)\n",
    "print(strikes)\n",
    "EuropeanOptions = []\n",
    "for T in range(len(MaturityDates)):\n",
    "    for K in range(len(strikes)):\n",
    "        EuropeanOptions.append(ql.VanillaOption(ql.PlainVanillaPayoff(option_type,100-(100-strikes[k])*math.sqrt((MaturityDates[T]-AsOfDate)/365)), exercises[T]))\n",
    "#print(EuropeanOptions)"
   ]
  },
  {
   "cell_type": "code",
   "execution_count": 137,
   "metadata": {},
   "outputs": [],
   "source": [
    "def d1(S0, K, r, sigma, T):\n",
    "    m = S0/(K*np.exp(-r*T))\n",
    "    return np.log(m)*(1/(sigma*np.sqrt(T)))+sigma*np.sqrt(T)/2\n",
    "\n",
    "def d2(S0, K, r, sigma, T):\n",
    "    return d1(S0,K,r,sigma,T)-sigma*np.sqrt(T)\n",
    " \n",
    "def BS_CallPrice(S0,K,r,sigma,T):\n",
    "    if T==0:\n",
    "        return np.maximum(S0-K,0)\n",
    "    else:\n",
    "        return S0*stats.norm.cdf(d1(S0,K,r,sigma,T))-K*np.exp(-r*T)*stats.norm.cdf(d2(S0,K,r,sigma,T))\n",
    "\n",
    "def Heston_CharacteristicFunctionLogPrice(t,omega,S0,v0,r,kappa,theta,ksi,rho):\n",
    "    alpha = complex(-omega**2 / 2, -omega / 2)\n",
    "    beta = complex(kappa,-rho*ksi*omega)\n",
    "    gamma = ksi**2 / 2\n",
    "    h = (beta**2-4*alpha*gamma)**0.5\n",
    "    r_m = (beta-h) / ksi**2\n",
    "    r_p = (beta+h) / ksi**2\n",
    "    g = r_m / r_p\n",
    "    C = kappa*(r_m*t-2*cpx.log((1-g*cpx.exp(-h*t))/(1-g))/ksi**2)\n",
    "    D = r_m*((1-cpx.exp(-h*t))/(1-g*cpx.exp(-h*t)))\n",
    "    return cpx.exp(complex(C*theta+D*v0,omega*np.log(S0*np.exp(r*t))))\n",
    "\n",
    "def RPI1_HestonChFuncLnS(omega,K,t,S0,v0,r,kappa,theta,ksi,rho):\n",
    "    num = Heston_CharacteristicFunctionLogPrice(t,omega-complex(0,1),S0,v0,r,kappa,theta,ksi,rho)*cpx.exp(complex(0,-omega*np.log(K)))\n",
    "    denom = complex(0,omega*Heston_CharacteristicFunctionLogPrice(t,-complex(0,1),S0,v0,r,kappa,theta,ksi,rho))\n",
    "    return (num / denom).real\n",
    "def RPI2_HestonChFuncLnS(omega,K,t,S0,v0,r,kappa,theta,ksi,rho):\n",
    "    num = Heston_CharacteristicFunctionLogPrice(t,omega,S0,v0,r,kappa,theta,ksi,rho)*cpx.exp(complex(0,-omega*np.log(K)))\n",
    "    denom = complex(0,omega)\n",
    "    return (num / denom).real\n",
    "def Heston_CallPrice(K,S0,r,T,v0,kappa,theta,ksi,rho):\n",
    "    Pi_1 = 1/2+1/np.pi*quad(RPI1_HestonChFuncLnS,0,np.inf,args=(K,T,S0,v0,r,kappa,theta,ksi,rho))[0]\n",
    "    Pi_2 = 1/2+1/np.pi*quad(RPI2_HestonChFuncLnS,0,np.inf,args=(K,T,S0,v0,r,kappa,theta,ksi,rho))[0]\n",
    "    return S0*Pi_1-K*np.exp(-r*T)*Pi_2\n",
    "\n",
    "def IVol(Mkt,S0,K,r,T,vol0=0.1):\n",
    "    def f(vol,Mkt_,S0_,K_,r_,T_,type_): return (BS_CallPrice(S0_,K_,r_,vol,T_)-Mkt)**2\n",
    "    return spo.minimize(f,vol0,args=(Mkt,S0,K,r,T,type),tol=1.0e-10).x"
   ]
  },
  {
   "cell_type": "code",
   "execution_count": 145,
   "metadata": {},
   "outputs": [],
   "source": [
    "# EUROPEAN OPTION CONFIG V2 - necessary in V1 for numeric values #\n",
    "Expiries = [0.0833,0.1667,0.25,0.5,1,1.5,2,3]\n",
    "BaseStrikes = [70,80,90,100,110,120,130]\n",
    "Strikes = []\n",
    "for T in range(len(Expiries)):\n",
    "    for K in range(len(BaseStrikes)):\n",
    "        Strikes.append(100-(100-BaseStrikes[K])*m.sqrt(Expiries[T])) "
   ]
  },
  {
   "cell_type": "code",
   "execution_count": 152,
   "metadata": {},
   "outputs": [],
   "source": [
    "# MARKET DATA\n",
    "r=ql.SimpleQuote(0.01)\n",
    "r_ts = ql.FlatForward(0,Calendar,ql.QuoteHandle(r),DayCount)\n",
    "q=ql.SimpleQuote(0.0)\n",
    "q_ts = ql.FlatForward(0,Calendar,ql.QuoteHandle(q),DayCount)\n",
    "s0=ql.SimpleQuote(100)\n",
    "\n",
    "# BLACK SCHOLES ENGINE ONLY USED FOR COMPUTING IMPLIED VOLATILITIES\n",
    "vol_bs = ql.SimpleQuote(0.10)\n",
    "vol_bs_ts = ql.BlackConstantVol(0,Calendar,ql.QuoteHandle(vol_bs),DayCount)\n",
    "BSProcess = ql.BlackScholesMertonProcess(ql.QuoteHandle(s0),ql.YieldTermStructureHandle(r_ts),ql.YieldTermStructureHandle(q_ts),\n",
    "                               ql.BlackVolTermStructureHandle(vol_bs_ts))\n",
    "\n",
    "# HESTON ENGINE\n",
    "v0 = 0.01\n",
    "kappa=0.5\n",
    "theta=0.01\n",
    "sigma=0.0001\n",
    "rho=-0.5\n",
    "HestonParams = [theta,kappa,sigma,rho,v0]\n",
    "relTolerance=0.01\n",
    "maxEval=10000\n",
    "HestonProcess = ql.HestonProcess(ql.YieldTermStructureHandle(r_ts),ql.YieldTermStructureHandle(q_ts),\n",
    "                                 ql.QuoteHandle(s0),v0,kappa,theta,sigma,rho)\n",
    "HestonModel = ql.HestonModel(HestonProcess)\n",
    "HestonEngine = ql.AnalyticHestonEngine(HestonModel,relTolerance,maxEval)\n",
    "for i in range(len(EuropeanOptions)):\n",
    "    EuropeanOptions[i].setPricingEngine(HestonEngine)"
   ]
  },
  {
   "cell_type": "code",
   "execution_count": 168,
   "metadata": {},
   "outputs": [
    {
     "name": "stdout",
     "output_type": "stream",
     "text": [
      "Random params simulation time = 0.07s\n",
      "Prices computation time = 36.51s\n",
      "Total computation time = 36.58s\n"
     ]
    }
   ],
   "source": [
    "# GENERATE DATAS\n",
    "nRand = 10000\n",
    "start = time.time()\n",
    "MinParamsValues = [0.1, 0.01,  0.15, -0.999, 0.01]\n",
    "MaxParamsValues = [2.5, 0.75,  2.0,  -0.10, 0.75]\n",
    "local_start = 0\n",
    "local_end = 0\n",
    "ArrParams = MakeUniformRandParams(MinParamsValues,MaxParamsValues,nRand)\n",
    "intermediary = time.time()\n",
    "\n",
    "#npv = np.zeros(nRand)\n",
    "#iv = np.zeros(nRand)\n",
    "#for i in range(nRand):\n",
    "#    HestonModel.setParams([ArrParams[i][k] for k in range(len(MinParamsValues))])\n",
    "#    npv[i] = EuropeanOption.NPV()\n",
    "#    iv[i] = EuropeanOption.impliedVolatility(npv[i],BSProcess,1.0e-4,200,1.0e-8,10)\n",
    "#end = time.time()\n",
    "#print('Random params simulation time = ' + str(round(intermediary-start,2)) + 's')\n",
    "#print('Prices computation time = ' + str(round(end-intermediary,2)) + 's')\n",
    "#print('Total computation time = ' + str(round(end-start,2)) + 's')\n",
    "X = np.zeros((nRand*len(Strikes),len(ArrParams[0])+2))\n",
    "npv = np.zeros(nRand*len(EuropeanOptions))\n",
    "iv = np.zeros(nRand*len(EuropeanOptions))\n",
    "for i in range(nRand):\n",
    "    HestonModel.setParams([ArrParams[i,k] for k in range(len(MinParamsValues))])\n",
    "    for j in range(len(EuropeanOptions)):\n",
    "        npv[i*len(EuropeanOptions)+j] = max(EuropeanOptions[j].NPV(),np.random.uniform(0,0.01))\n",
    "        iv[i*len(EuropeanOptions)+j] = EuropeanOptions[j].impliedVolatility(npv[i*len(EuropeanOptions)+j],BSProcess,1.0e-4,200,1.0e-8,100)\n",
    "        X[i*len(EuropeanOptions)+j,0]=Expiries[int(j/len(Expiries))]\n",
    "        X[i*len(EuropeanOptions)+j,1]=Strikes[j]\n",
    "        X[i*len(EuropeanOptions)+j,2:] = ArrParams[i,:] \n",
    "end = time.time()\n",
    "print('Random params simulation time = ' + str(round(intermediary-start,2)) + 's')\n",
    "print('Prices computation time = ' + str(round(end-intermediary,2)) + 's')\n",
    "print('Total computation time = ' + str(round(end-start,2)) + 's')"
   ]
  },
  {
   "cell_type": "code",
   "execution_count": 148,
   "metadata": {},
   "outputs": [
    {
     "name": "stdout",
     "output_type": "stream",
     "text": [
      "Random params simulation time = 0.0s\n",
      "Prices computation time = 14.46s\n",
      "Total computation time = 14.46s\n"
     ]
    }
   ],
   "source": [
    "# GENERATE DATAS V2\n",
    "nRand = 10\n",
    "start = time.time()\n",
    "S0 = 100\n",
    "r = 0.01\n",
    "MinParamsValues = [0.1, 0.01,  0.15, -0.999, 0.01]\n",
    "MaxParamsValues = [2.5, 0.75,  2.0,  -0.10, 0.75]\n",
    "local_start = 0\n",
    "local_end = 0\n",
    "ArrParams = MakeUniformRandParams(MinParamsValues,MaxParamsValues,nRand)\n",
    "intermediary = time.time()\n",
    "\n",
    "#npv = np.zeros(nRand)\n",
    "#iv = np.zeros(nRand)\n",
    "#for i in range(nRand):\n",
    "#    HestonModel.setParams([ArrParams[i][k] for k in range(len(MinParamsValues))])\n",
    "#    npv[i] = EuropeanOption.NPV()\n",
    "#    iv[i] = EuropeanOption.impliedVolatility(npv[i],BSProcess,1.0e-4,200,1.0e-8,10)\n",
    "#end = time.time()\n",
    "#print('Random params simulation time = ' + str(round(intermediary-start,2)) + 's')\n",
    "#print('Prices computation time = ' + str(round(end-intermediary,2)) + 's')\n",
    "#print('Total computation time = ' + str(round(end-start,2)) + 's')\n",
    "npv = np.zeros(nRand*len(Strikes))\n",
    "iv = np.zeros(nRand*len(Strikes))\n",
    "for i in range(nRand):\n",
    "    kappa = ArrParams[i,0]\n",
    "    theta = ArrParams[i,1]\n",
    "    xi = ArrParams[i,2]\n",
    "    rho = ArrParams[i,3]\n",
    "    v0 = ArrParams[i,4]\n",
    "    j = 0\n",
    "    for T in range(len(Expiries)):\n",
    "        for K in range(len(BaseStrikes)):\n",
    "            npv[i*len(Strikes)+j] = Heston_CallPrice(Strikes[j],S0,r,Expiries[T],v0,kappa,theta,xi,rho)\n",
    "            iv[i*len(Strikes)+j] = IVol(npv[i*len(Strikes)+j],S0,Strikes[j],r,Expiries[T])\n",
    "            j = j+1\n",
    "end = time.time()\n",
    "print('Random params simulation time = ' + str(round(intermediary-start,2)) + 's')\n",
    "print('Prices computation time = ' + str(round(end-intermediary,2)) + 's')\n",
    "print('Total computation time = ' + str(round(end-start,2)) + 's')"
   ]
  },
  {
   "cell_type": "code",
   "execution_count": 155,
   "metadata": {},
   "outputs": [
    {
     "name": "stdout",
     "output_type": "stream",
     "text": [
      "31\n",
      "<QuantLib.QuantLib.VanillaOption; proxy of <Swig Object of type 'VanillaOptionPtr *' at 0x0000024C43152570> >\n"
     ]
    }
   ],
   "source": [
    "HestonPrice = EuropeanOptions[j].NPV()\n",
    "time_=ql.Date(15,11,2018)-AsOfDate\n",
    "print(time_)\n",
    "print(EuropeanOptions[j])"
   ]
  },
  {
   "cell_type": "code",
   "execution_count": 157,
   "metadata": {},
   "outputs": [
    {
     "name": "stdout",
     "output_type": "stream",
     "text": [
      "-2.185331933060704\n",
      "K = 70\n",
      "T = December 15th, 2018\n",
      "[ 0.23776411  0.41134215  0.41489069 -0.87533755  0.01083048]\n",
      "0.0\n"
     ]
    }
   ],
   "source": [
    "print(HestonPrice)\n",
    "print('K = ' + str(strikes[j%len(strikes)]))\n",
    "print('T = ' + str(MaturityDates[int(j/len(strikes))]))\n",
    "print(ArrParams[i])\n",
    "new_vol = 0.001\n",
    "vol_bs.setValue(new_vol)\n",
    "EuropeanOptions[j].setPricingEngine(ql.AnalyticEuropeanEngine(BSProcess))\n",
    "print(EuropeanOptions[j].NPV())"
   ]
  },
  {
   "cell_type": "code",
   "execution_count": 162,
   "metadata": {},
   "outputs": [
    {
     "name": "stdout",
     "output_type": "stream",
     "text": [
      "[(30, 30, 30), (30, 30, 30, 30), (30, 30, 30, 30, 30), (35, 35, 35), (35, 35, 35, 35), (35, 35, 35, 35, 35), (40, 40, 40), (40, 40, 40, 40), (40, 40, 40, 40, 40), (45, 45, 45), (45, 45, 45, 45), (45, 45, 45, 45, 45), (50, 50, 50), (50, 50, 50, 50), (50, 50, 50, 50, 50), (55, 55, 55), (55, 55, 55, 55), (55, 55, 55, 55, 55), (60, 60, 60), (60, 60, 60, 60), (60, 60, 60, 60, 60)]\n"
     ]
    }
   ],
   "source": [
    "def ann_layers_neurones(layer, neurone):\n",
    "    hidden_layer_sizes = (neurone, )\n",
    "    if layer == 1.0: return hidden_layer_sizes\n",
    "    elif layer > 1.0:\n",
    "        for i in range(layer-1):\n",
    "            hidden_layer_sizes += (neurone,)\n",
    "        return hidden_layer_sizes\n",
    "\n",
    "nLayersMin = 3\n",
    "nLayersMax = 5\n",
    "nLayersStep = 1\n",
    "nNeuronesMin = 30\n",
    "nNeuronesMax = 60\n",
    "nNeuronesStep = 5\n",
    "hidden_layers_sizes_vect = []\n",
    "i_ = 0\n",
    "for i in range(nNeuronesMin,nNeuronesMax+1,nNeuronesStep):\n",
    "    j_ = 0\n",
    "    for j in range(nLayersMin,nLayersMax+1,nLayersStep):\n",
    "        hidden_layers_sizes_vect.append(ann_layers_neurones(j,i))\n",
    "        j_ += 1\n",
    "    i_ += 1\n",
    "print(hidden_layers_sizes_vect)"
   ]
  },
  {
   "cell_type": "code",
   "execution_count": 169,
   "metadata": {},
   "outputs": [
    {
     "name": "stdout",
     "output_type": "stream",
     "text": [
      "Total computation time = 370.27s\n"
     ]
    }
   ],
   "source": [
    "start = time.time()\n",
    "nRand2 = nRand*len(Strikes)\n",
    "nMin = nRand2\n",
    "nMax = nRand2\n",
    "nStep = 500\n",
    "vect_train_error = np.zeros(int((nMax-nMin)/nStep)+1)\n",
    "vect_test_error = np.zeros(int((nMax-nMin)/nStep)+1)\n",
    "i = 0\n",
    "for n in range(nMin,nMax+1,nStep):\n",
    "    index = sample(range(0,nRand2),n)\n",
    "    X2=np.zeros((n,len(X[0])))\n",
    "    for k in range(len(ArrParams[0])):        \n",
    "        X2[:,k]=[X[j,k] for j in index]\n",
    "    Y=[iv[j] for j in index]\n",
    "\n",
    "    X_train, X_test, Y_train, Y_test = train_test_split(X2, Y)\n",
    "\n",
    "    scaler = StandardScaler()\n",
    "    scaler.fit(X_train)\n",
    "    X_train = scaler.transform(X_train)\n",
    "    X_test = scaler.transform(X_test)\n",
    "    # ANN FIT\n",
    "    vect_train_error[i]=1000\n",
    "    vect_test_error[i]=1000\n",
    "    for current_archi in hidden_layers_sizes_vect:\n",
    "        ann = sknn.MLPRegressor(hidden_layer_sizes=current_archi)\n",
    "        ann.fit(X_train,Y_train)\n",
    "        if (np.mean(abs(ann.predict(X_train)-Y_train))*100<vect_train_error[i]):\n",
    "            vect_train_error[i]=np.mean(abs(ann.predict(X_train)-Y_train))*100\n",
    "            vect_test_error[i]=np.mean(abs(ann.predict(X_test)-Y_test))*100\n",
    "    i+=1\n",
    "end = time.time()\n",
    "print('Total computation time = ' + str(round(end-start,2)) + 's')"
   ]
  },
  {
   "cell_type": "code",
   "execution_count": 170,
   "metadata": {},
   "outputs": [
    {
     "name": "stdout",
     "output_type": "stream",
     "text": [
      "[11.95185048]\n",
      "[12.00022157]\n"
     ]
    }
   ],
   "source": [
    "print(vect_train_error)\n",
    "print(vect_test_error)\n",
    "#plt.plot(range(nMin,nMax+1,nStep),vect_train_error,color='b')\n",
    "#plt.plot(range(nMin,nMax+1,nStep),vect_test_error, color='r')\n",
    "#plt.show()"
   ]
  },
  {
   "cell_type": "code",
   "execution_count": 51,
   "metadata": {},
   "outputs": [
    {
     "data": {
      "text/plain": [
       "DescribeResult(nobs=3000, minmax=(3.6815891468755524e-07, 0.060570118918586824), mean=0.0047184862438876644, variance=1.4214250562972097e-05, skewness=2.378469056236739, kurtosis=19.338542371363665)"
      ]
     },
     "execution_count": 51,
     "metadata": {},
     "output_type": "execute_result"
    }
   ],
   "source": [
    "nTest = 3000\n",
    "X_test = MakeUniformRandParams(MinParamsValues,MaxParamsValues,nTest)\n",
    "X_testAfterScale = scaler.transform(X_test)\n",
    "iv = np.zeros(nTest)\n",
    "err = np.zeros(nTest)\n",
    "prediction = ann.predict(X_testAfterScale)\n",
    "for i in range(nTest):\n",
    "    HestonModel.setParams([X_test[i,k] for k in range(len(MinParamsValues))])\n",
    "    iv[i] = EuropeanOption.impliedVolatility(EuropeanOption.NPV(),BSProcess,1.0e-4,200,1.0e-8,10)\n",
    "    err[i]=abs(iv[i]-prediction[i])\n",
    "stats.describe(err)"
   ]
  },
  {
   "cell_type": "code",
   "execution_count": 52,
   "metadata": {},
   "outputs": [
    {
     "data": {
      "text/plain": [
       "8.426932725704573"
      ]
     },
     "execution_count": 52,
     "metadata": {},
     "output_type": "execute_result"
    }
   ],
   "source": []
  },
  {
   "cell_type": "code",
   "execution_count": null,
   "metadata": {},
   "outputs": [],
   "source": []
  }
 ],
 "metadata": {
  "kernelspec": {
   "display_name": "Python 3",
   "language": "python",
   "name": "python3"
  },
  "language_info": {
   "codemirror_mode": {
    "name": "ipython",
    "version": 3
   },
   "file_extension": ".py",
   "mimetype": "text/x-python",
   "name": "python",
   "nbconvert_exporter": "python",
   "pygments_lexer": "ipython3",
   "version": "3.7.0"
  }
 },
 "nbformat": 4,
 "nbformat_minor": 2
}
