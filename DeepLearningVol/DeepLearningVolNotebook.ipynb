{
 "cells": [
  {
   "cell_type": "code",
   "execution_count": 42,
   "metadata": {},
   "outputs": [],
   "source": [
    "import QuantLib as ql\n",
    "import numpy as np\n",
    "import scipy.stats as stats\n",
    "from sklearn.model_selection import train_test_split\n",
    "from sklearn.preprocessing import StandardScaler\n",
    "from random import sample\n",
    "import sklearn.neural_network as sknn\n",
    "import matplotlib.pyplot as plt\n",
    "import time"
   ]
  },
  {
   "cell_type": "code",
   "execution_count": 99,
   "metadata": {},
   "outputs": [
    {
     "name": "stdout",
     "output_type": "stream",
     "text": [
      "[1, 2, 4]\n"
     ]
    }
   ],
   "source": [
    "def MakeUniformRandParams(ArrayMin,ArrayMax,nRand):\n",
    "    if (len(ArrayMin)!=len(ArrayMax)):\n",
    "        raise Exception('ArrayMax and ArrayMin must have the same size')\n",
    "    else:\n",
    "        nParams = len(ArrayMin)\n",
    "        rand_seq = ql.UniformRandomSequenceGenerator(nParams*nRand,ql.UniformRandomGenerator())\n",
    "        X = rand_seq.nextSequence().value()\n",
    "        X = [ArrayMin[j%nParams]+(ArrayMax[j%nParams]-ArrayMin[j%nParams])*X[j] for j in range(nParams*nRand)]\n",
    "        res = np.reshape(X,(nRand,nParams))\n",
    "        return res\n",
    "\n",
    "def RemoveOutFellerCondition(X):\n",
    "    k=0\n",
    "    for (j in range(len(X))):\n",
    "        if (2*X[k,0]*X[k,1]<X[k,3]**2):\n",
    "            X.remove(X[k,:])\n",
    "        \n",
    "## TBC    \n",
    "    \n",
    "ArrayMin = [0.1, 0.1,  0.01, -0.999, 0.1]\n",
    "ArrayMax = [1.5, 1.5,  0.75,  0.999, 1.5]\n",
    "nRand = 500000\n",
    "#start = time.time()\n",
    "#res=MakeUniformRandParams(ArrayMin,ArrayMax,nRand)\n",
    "#end = time.time()\n",
    "#print('Total computation time = ' + str(round(end-start,2)) + 's')\n",
    "X = [1,2,3,4]\n",
    "X.remove(3)\n",
    "print(X)"
   ]
  },
  {
   "cell_type": "code",
   "execution_count": 69,
   "metadata": {},
   "outputs": [],
   "source": [
    "# GLOBAL CONFIG #\n",
    "AsOfDate = ql.Date(15,10,2018)\n",
    "ql.Settings.instance().evaluationDate = AsOfDate\n",
    "DayCount = ql.Actual365Fixed()\n",
    "Calendar = ql.UnitedStates()"
   ]
  },
  {
   "cell_type": "code",
   "execution_count": 45,
   "metadata": {},
   "outputs": [],
   "source": [
    "# EUROPEAN OPTION CONFIG #\n",
    "MaturityDate = ql.Date(15,10,2022)\n",
    "TargetDate = ql.Date(13,10,2022)\n",
    "strike = 100\n",
    "option_type = ql.Option.Call\n",
    "payoff = ql.PlainVanillaPayoff(option_type, strike)\n",
    "exercise = ql.EuropeanExercise(MaturityDate)\n",
    "EuropeanOption = ql.VanillaOption(payoff, exercise)"
   ]
  },
  {
   "cell_type": "code",
   "execution_count": 46,
   "metadata": {},
   "outputs": [],
   "source": [
    "# MARKET DATA\n",
    "r=ql.SimpleQuote(0.01)\n",
    "r_ts = ql.FlatForward(0,Calendar,ql.QuoteHandle(r),DayCount)\n",
    "q=ql.SimpleQuote(0.0)\n",
    "q_ts = ql.FlatForward(0,Calendar,ql.QuoteHandle(q),DayCount)\n",
    "s0=ql.SimpleQuote(100)\n",
    "\n",
    "# BLACK SCHOLES ENGINE ONLY USED FOR COMPUTING IMPLIED VOLATILITIES\n",
    "vol_bs = ql.SimpleQuote(0.10)\n",
    "vol_bs_ts = ql.BlackConstantVol(0,Calendar,ql.QuoteHandle(vol_bs),DayCount)\n",
    "BSProcess = ql.BlackScholesMertonProcess(ql.QuoteHandle(s0),ql.YieldTermStructureHandle(r_ts),ql.YieldTermStructureHandle(q_ts),\n",
    "                               ql.BlackVolTermStructureHandle(vol_bs_ts))\n",
    "\n",
    "# HESTON ENGINE\n",
    "v0 = 0.01\n",
    "kappa=0.5\n",
    "theta=0.01\n",
    "sigma=0.0001\n",
    "rho=-0.5\n",
    "HestonParams = [theta,kappa,sigma,rho,v0]\n",
    "relTolerance=0.01\n",
    "maxEval=20000\n",
    "HestonProcess = ql.HestonProcess(ql.YieldTermStructureHandle(r_ts),ql.YieldTermStructureHandle(q_ts),\n",
    "                                 ql.QuoteHandle(s0),v0,kappa,theta,sigma,rho)\n",
    "HestonModel = ql.HestonModel(HestonProcess)\n",
    "HestonEngine = ql.AnalyticHestonEngine(HestonModel,relTolerance,maxEval)\n",
    "EuropeanOption.setPricingEngine(HestonEngine)"
   ]
  },
  {
   "cell_type": "code",
   "execution_count": 47,
   "metadata": {},
   "outputs": [
    {
     "name": "stdout",
     "output_type": "stream",
     "text": [
      "Random params simulation time = 0.14s\n",
      "Prices computation time = 31.05s\n",
      "Total computation time = 31.19s\n"
     ]
    }
   ],
   "source": [
    "# GENERATE DATAS\n",
    "nRand = 200000\n",
    "start = time.time()\n",
    "MinParamsValues = [0.1, 0.1,  0.01, -0.999, 0.1]\n",
    "MaxParamsValues = [1.5, 1.5,  0.75,  0.999, 1.5]\n",
    "local_start = 0\n",
    "local_end = 0\n",
    "ArrParams = MakeUniformRandParams(MinParamsValues,MaxParamsValues,nRand)\n",
    "intermediary = time.time()\n",
    "\n",
    "#ArrParams[1,:]\n",
    "npv = np.zeros(nRand)\n",
    "iv = np.zeros(nRand)\n",
    "for i in range(nRand):\n",
    "    HestonModel.setParams([ArrParams[i][k] for k in range(len(MinParamsValues))])\n",
    "    npv[i] = EuropeanOption.NPV()\n",
    "    iv[i] = EuropeanOption.impliedVolatility(npv[i],BSProcess,1.0e-4,200,1.0e-8,10)\n",
    "end = time.time()\n",
    "print('Random params simulation time = ' + str(round(intermediary-start,2)) + 's')\n",
    "print('Prices computation time = ' + str(round(end-intermediary,2)) + 's')\n",
    "print('Total computation time = ' + str(round(end-start,2)) + 's')"
   ]
  },
  {
   "cell_type": "code",
   "execution_count": 48,
   "metadata": {},
   "outputs": [
    {
     "name": "stdout",
     "output_type": "stream",
     "text": [
      "[(30, 30, 30), (30, 30, 30, 30), (30, 30, 30, 30, 30), (35, 35, 35), (35, 35, 35, 35), (35, 35, 35, 35, 35), (40, 40, 40), (40, 40, 40, 40), (40, 40, 40, 40, 40), (45, 45, 45), (45, 45, 45, 45), (45, 45, 45, 45, 45), (50, 50, 50), (50, 50, 50, 50), (50, 50, 50, 50, 50), (55, 55, 55), (55, 55, 55, 55), (55, 55, 55, 55, 55), (60, 60, 60), (60, 60, 60, 60), (60, 60, 60, 60, 60)]\n"
     ]
    }
   ],
   "source": [
    "def ann_layers_neurones(layer, neurone):\n",
    "    hidden_layer_sizes = (neurone, )\n",
    "    if layer == 1.0: return hidden_layer_sizes\n",
    "    elif layer > 1.0:\n",
    "        for i in range(layer-1):\n",
    "            hidden_layer_sizes += (neurone,)\n",
    "        return hidden_layer_sizes\n",
    "\n",
    "nLayersMin = 3\n",
    "nLayersMax = 5\n",
    "nLayersStep = 1\n",
    "nNeuronesMin = 30\n",
    "nNeuronesMax = 60\n",
    "nNeuronesStep = 5\n",
    "hidden_layers_sizes_vect = []\n",
    "i_ = 0\n",
    "for i in range(nNeuronesMin,nNeuronesMax+1,nNeuronesStep):\n",
    "    j_ = 0\n",
    "    for j in range(nLayersMin,nLayersMax+1,nLayersStep):\n",
    "        hidden_layers_sizes_vect.append(ann_layers_neurones(j,i))\n",
    "        j_ += 1\n",
    "    i_ += 1\n",
    "print(hidden_layers_sizes_vect)"
   ]
  },
  {
   "cell_type": "code",
   "execution_count": 49,
   "metadata": {},
   "outputs": [
    {
     "name": "stdout",
     "output_type": "stream",
     "text": [
      "Total computation time = 281.95s\n"
     ]
    }
   ],
   "source": [
    "start = time.time()\n",
    "nMin = nRand\n",
    "nMax = nRand\n",
    "nStep = 500\n",
    "vect_train_error = np.zeros(int((nMax-nMin)/nStep)+1)\n",
    "vect_test_error = np.zeros(int((nMax-nMin)/nStep)+1)\n",
    "i = 0\n",
    "for n in range(nMin,nMax+1,nStep):\n",
    "    index = sample(range(0,nRand),n)\n",
    "    X=np.zeros((n,len(ArrParams[0])))\n",
    "    for k in range(len(ArrParams[0])):\n",
    "        X[:,k]=[ArrParams[j][k] for j in index]\n",
    "    Y=[iv[j] for j in index]\n",
    "\n",
    "    X_train, X_test, Y_train, Y_test = train_test_split(X, Y)\n",
    "\n",
    "    scaler = StandardScaler()\n",
    "    scaler.fit(X_train)\n",
    "    X_train = scaler.transform(X_train)\n",
    "    X_test = scaler.transform(X_test)\n",
    "    # ANN FIT\n",
    "    vect_train_error[i]=1000\n",
    "    vect_test_error[i]=1000\n",
    "    for current_archi in hidden_layers_sizes_vect:\n",
    "        ann = sknn.MLPRegressor(hidden_layer_sizes=current_archi)\n",
    "        ann.fit(X_train,Y_train)\n",
    "        if (np.mean(abs(ann.predict(X_train)-Y_train))*100<vect_train_error[i]):\n",
    "            vect_train_error[i]=np.mean(abs(ann.predict(X_train)-Y_train))*100\n",
    "            vect_test_error[i]=np.mean(abs(ann.predict(X_test)-Y_test))*100\n",
    "    i+=1\n",
    "end = time.time()\n",
    "print('Total computation time = ' + str(round(end-start,2)) + 's')"
   ]
  },
  {
   "cell_type": "code",
   "execution_count": 50,
   "metadata": {},
   "outputs": [
    {
     "name": "stdout",
     "output_type": "stream",
     "text": [
      "[0.42243789]\n",
      "[0.4285705]\n"
     ]
    }
   ],
   "source": [
    "print(vect_train_error)\n",
    "print(vect_test_error)\n",
    "#plt.plot(range(nMin,nMax+1,nStep),vect_train_error,color='b')\n",
    "#plt.plot(range(nMin,nMax+1,nStep),vect_test_error, color='r')\n",
    "#plt.show()"
   ]
  },
  {
   "cell_type": "code",
   "execution_count": 51,
   "metadata": {},
   "outputs": [
    {
     "data": {
      "text/plain": [
       "DescribeResult(nobs=3000, minmax=(3.6815891468755524e-07, 0.060570118918586824), mean=0.0047184862438876644, variance=1.4214250562972097e-05, skewness=2.378469056236739, kurtosis=19.338542371363665)"
      ]
     },
     "execution_count": 51,
     "metadata": {},
     "output_type": "execute_result"
    }
   ],
   "source": [
    "nTest = 3000\n",
    "X_test = MakeUniformRandParams(MinParamsValues,MaxParamsValues,nTest)\n",
    "X_testAfterScale = scaler.transform(X_test)\n",
    "iv = np.zeros(nTest)\n",
    "err = np.zeros(nTest)\n",
    "prediction = ann.predict(X_testAfterScale)\n",
    "for i in range(nTest):\n",
    "    HestonModel.setParams([X_test[i,k] for k in range(len(MinParamsValues))])\n",
    "    iv[i] = EuropeanOption.impliedVolatility(EuropeanOption.NPV(),BSProcess,1.0e-4,200,1.0e-8,10)\n",
    "    err[i]=abs(iv[i]-prediction[i])\n",
    "stats.describe(err)"
   ]
  },
  {
   "cell_type": "code",
   "execution_count": 52,
   "metadata": {},
   "outputs": [
    {
     "data": {
      "text/plain": [
       "8.426932725704573"
      ]
     },
     "execution_count": 52,
     "metadata": {},
     "output_type": "execute_result"
    }
   ],
   "source": []
  },
  {
   "cell_type": "code",
   "execution_count": null,
   "metadata": {},
   "outputs": [],
   "source": []
  }
 ],
 "metadata": {
  "kernelspec": {
   "display_name": "Python 3",
   "language": "python",
   "name": "python3"
  },
  "language_info": {
   "codemirror_mode": {
    "name": "ipython",
    "version": 3
   },
   "file_extension": ".py",
   "mimetype": "text/x-python",
   "name": "python",
   "nbconvert_exporter": "python",
   "pygments_lexer": "ipython3",
   "version": "3.7.0"
  }
 },
 "nbformat": 4,
 "nbformat_minor": 2
}
